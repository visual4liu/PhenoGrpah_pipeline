{
 "cells": [
  {
   "cell_type": "markdown",
   "metadata": {},
   "source": [
    "# PhenoGraph Pipeline\n",
    "# 3/4 Gene Expression Signature Define by Silico Expression Deconvolution\n",
    "This part tries to link GEO arrays to single cell data. \n",
    "\n",
    "For each score, %SDPC or %IFPC, a set of associated genes was defined based on correlation with the expression patterns across the patients. This method, known as in silico gene expression deconvolution (Lu et al., 2003; Stuart et al., 2004), assumes that a subpopulation of interest will express certain genes at constant rates; therefore, changes in bulk expression will track with changes in subpopulation size. This can be formalized as a linear regression problem:\n",
    "\n",
    "$Y=X\\beta + \\epsilon$\n",
    "\n",
    "in which Y is a N x G matrix of G mean-centered gene expression values, X is a N x 1 vector of the patient feature (e.g., %IFPC), and 𝛽 is a 1 x G vector of regression coefficients. 𝛽 can be obtained from the least squares solution and represents, for each gene, the strength of its\n",
    "association with the patient feature.\n",
    "\n",
    "$\\beta = (X^T X)^{-1}X^T Y$"
   ]
  },
  {
   "cell_type": "markdown",
   "metadata": {},
   "source": [
    "## GEO data set preprocess:\n"
   ]
  },
  {
   "cell_type": "code",
   "execution_count": 67,
   "metadata": {
    "collapsed": true
   },
   "outputs": [],
   "source": [
    "import pandas as pd\n",
    "import numpy as np\n",
    "import math\n",
    "from itertools import *\n",
    "import networkx as nx\n",
    "import seaborn as sns\n",
    "import matplotlib.pyplot as plt\n",
    "%matplotlib inline"
   ]
  },
  {
   "cell_type": "code",
   "execution_count": 68,
   "metadata": {},
   "outputs": [],
   "source": [
    "# load SDPC IFPC and Affymetrix\n",
    "samples = pd.read_csv(\"sample_information.csv\",index_col=0)\n",
    "probe_e = pd.read_csv(\"GEO/GSE14471_series_matrix.csv\",index_col=0,header=68)\n",
    "gene_knowledge = pd.read_csv(\"geneknowledge.csv\",index_col=0)"
   ]
  },
  {
   "cell_type": "code",
   "execution_count": 69,
   "metadata": {},
   "outputs": [
    {
     "data": {
      "text/plain": [
       "(22284, 111)"
      ]
     },
     "execution_count": 69,
     "metadata": {},
     "output_type": "execute_result"
    }
   ],
   "source": [
    "probe_e.shape"
   ]
  },
  {
   "cell_type": "code",
   "execution_count": 70,
   "metadata": {},
   "outputs": [
    {
     "data": {
      "text/plain": [
       "(22283, 15)"
      ]
     },
     "execution_count": 70,
     "metadata": {},
     "output_type": "execute_result"
    }
   ],
   "source": [
    "gene_knowledge.shape"
   ]
  },
  {
   "cell_type": "code",
   "execution_count": 71,
   "metadata": {},
   "outputs": [],
   "source": [
    "probe_e = probe_e.drop( probe_e.index[pd.isnull(probe_e).sum(axis=1) >= 1] )"
   ]
  },
  {
   "cell_type": "code",
   "execution_count": 72,
   "metadata": {},
   "outputs": [
    {
     "name": "stdout",
     "output_type": "stream",
     "text": [
      "There are 22283 probes in GEO; ID # GSE14471\n"
     ]
    }
   ],
   "source": [
    "probe_e = np.log2(probe_e.loc[:,:])\n",
    "probe_e = probe_e.T\n",
    "normalizer = probe_e.quantile(0.75)\n",
    "\n",
    "print(\"There are {} probes in GEO; ID # GSE14471\".format(probe_e.shape[1]))\n",
    "probe_e = probe_e.loc[samples['GEO ID '],:]"
   ]
  },
  {
   "cell_type": "code",
   "execution_count": 73,
   "metadata": {},
   "outputs": [
    {
     "name": "stdout",
     "output_type": "stream",
     "text": [
      "6950 probes were removed for low intensity (defined as being below 7 on log2 scale in at least 12 of the 16 arrays)\n"
     ]
    }
   ],
   "source": [
    "excluded_probes_1 = []\n",
    "for c in probe_e.columns:\n",
    "    if (sum(probe_e[c]<7) >= 12) or (probe_e[c].std() <0.25):\n",
    "        excluded_probes_1.append(c)\n",
    "print(\"{} probes were removed for low intensity (defined as being below 7 on log2 scale in at least 12 of the 16 arrays)\".format(len(excluded_probes_1)))\n"
   ]
  },
  {
   "cell_type": "code",
   "execution_count": 78,
   "metadata": {},
   "outputs": [],
   "source": [
    "samples = samples.drop(\"SJ12\")\n",
    "# probe_e = probe_e.T\n",
    "# probe_e = (probe_e.loc[:,samples['GEO ID ']])\n",
    "# probe_e = probe_e.T\n",
    "probe_e = probe_e.ix[samples['GEO ID ']]\n",
    "\n",
    "c = probe_e.loc[:,np.logical_not(probe_e.columns.isin(excluded_probes_1))]\n",
    "# probe_e = probe_e/normalizer\n",
    "probe_e = probe_e/probe_e.quantile(0.75)"
   ]
  },
  {
   "cell_type": "code",
   "execution_count": 79,
   "metadata": {
    "collapsed": true
   },
   "outputs": [],
   "source": [
    "# average probes targeting for a same gene\n",
    "tagret_genes = []\n",
    "\n",
    "gene_knowledge = gene_knowledge.ix[probe_e.columns.values]\n",
    "\n",
    "for c in probe_e.columns.values:\n",
    "    tagret_genes.append(gene_knowledge.loc[c,['Gene Symbol']].values[0])\n",
    "tagret_genes = np.array(tagret_genes)\n",
    "\n",
    "unique_target_probes = []\n",
    "unique_genes = []\n",
    "tagret_genes_split = []\n",
    "\n",
    "for i,t in enumerate(tagret_genes):\n",
    "    if type(t[0]) == str:\n",
    "        tagret_genes_split.append(t.split(\"///\"))    \n",
    "\n",
    "#  creat a mapping dictionary\n",
    "genes_to_probes={}\n",
    "\n",
    "for i,gs in enumerate(tagret_genes_split):\n",
    "    for g in gs:\n",
    "        genes_to_probes[str.strip(g)] = []\n",
    "            \n",
    "for i,gs in enumerate(tagret_genes_split):\n",
    "    for g in gs:\n",
    "        genes_to_probes[str.strip(g)].append(gene_knowledge.index[i])\n",
    "    \n",
    "del genes_to_probes[\"nan\"]"
   ]
  },
  {
   "cell_type": "code",
   "execution_count": 80,
   "metadata": {},
   "outputs": [
    {
     "name": "stdout",
     "output_type": "stream",
     "text": [
      "Probe sets targeting the same gene whose measurementswere well correlated (r > .75) were averaged to produce consensus expression values for 9872 unique genes.\n",
      "0 Genes were excluded for they are targeted by several uncorrelated probes\n"
     ]
    }
   ],
   "source": [
    "count = 0 \n",
    "exclueded_genes = []\n",
    "gene_expression = pd.DataFrame([],index=probe_e.index)\n",
    "for gene in genes_to_probes:\n",
    "    # if there are more than 1 probe target this gene\n",
    "    if len(genes_to_probes[gene]) > 1: \n",
    "\n",
    "        # finding the correlation matrix of probes\n",
    "        r = np.corrcoef(probe_e[genes_to_probes[gene]],rowvar=0)\n",
    "#         for i in range(r.shape[0]):\n",
    "#             for j in range(r.shape[1]):\n",
    "#                 if i==j:\n",
    "#                     r[i,j] = 1\n",
    "        s = r > 0.75\n",
    "        \n",
    "        if np.sum(s.flatten()) == 0:\n",
    "            exclueded_genes.append(gene)\n",
    "#           no edge\n",
    "            continue\n",
    "        \n",
    "        G = nx.from_numpy_matrix(s)\n",
    "        generator = nx.find_cliques(G)\n",
    "        \n",
    "        memberlist = [c for c in generator]\n",
    "#        if none in this subset is correlated to each other, skip\n",
    "\n",
    "\n",
    "#       max clique menber indexes\n",
    "        ixx = np.argmax([len(l) for l in memberlist])\n",
    "        subset = memberlist[ixx]\n",
    "        \n",
    "        if len(subset) <= 1:\n",
    "#            all cliques has itself as the only member\n",
    "           gene_expression[gene] = probe_e[genes_to_probes[gene][0]]\n",
    "#             exclueded_genes.append(gene)\n",
    "#             continue\n",
    "        else:\n",
    "            t = np.array(genes_to_probes[gene])\n",
    "            t = t[subset]\n",
    "            gene_expression[gene] = probe_e[t].mean(axis=1)\n",
    "            count = count + 1\n",
    "\n",
    "    else:\n",
    "        gene_expression[gene] = probe_e[genes_to_probes[gene]]\n",
    "        count = count + 1\n",
    "print(\"Probe sets targeting the same gene whose measurementswere well correlated (r > .75) were averaged to produce consensus expression values for {} unique genes.\".format(count) )\n",
    "#gene_expression.iloc[:,:] = gene_expression.iloc[:,:]\n",
    "print(\"{} Genes were excluded for they are targeted by several uncorrelated probes\".format(len(exclueded_genes)) )\n",
    "     \n",
    "# gene_expression.to_csv(\"sorted_gene_expression.csv\") \n"
   ]
  },
  {
   "cell_type": "code",
   "execution_count": 81,
   "metadata": {
    "collapsed": true
   },
   "outputs": [],
   "source": [
    "tttt= gene_expression"
   ]
  },
  {
   "cell_type": "code",
   "execution_count": 83,
   "metadata": {
    "collapsed": true
   },
   "outputs": [],
   "source": [
    "# center each gene \n",
    "from scipy.stats import zscore\n",
    "gene_expression = tttt\n",
    "# gene_expression = gene_expression\n",
    "\n",
    "l = len(gene_expression.index)\n",
    "b = np.zeros((int(l*(l-1)/2),gene_expression.shape[1]))\n",
    "# leave-two-out cross validation\n",
    "for i,c in enumerate(combinations(gene_expression.index,2)):\n",
    "    Y = gene_expression.ix[np.logical_not(gene_expression.index.isin([c[0],c[1]]))].values    \n",
    "#    X = samples.loc[np.logical_not(gene_expression.index.isin([c[0],c[1]])),['SDPC Freq. (%)',\"IFPC Freq. (%)\"]].values\n",
    "    X = samples.loc[np.logical_not(gene_expression.index.isin([c[0],c[1]])),[\"IFPC Freq. (%)\"]].values\n",
    "    b[i,:] = (np.linalg.inv(X.T.dot(X)).dot(X.T).dot(Y))\n",
    "#     b[i,:] = "
   ]
  },
  {
   "cell_type": "code",
   "execution_count": 84,
   "metadata": {},
   "outputs": [
    {
     "name": "stdout",
     "output_type": "stream",
     "text": [
      "IFPC% Signature contains 30 genes\n",
      "['ANXA8' 'ASB1' 'ASF1B' 'BANP' 'C2orf47' 'FARS2' 'G3BP1' 'HOXC4' 'LHX3'\n",
      " 'MIR1236' 'MKNK1' 'MUC3A' 'MUS81' 'MYL12B' 'NDUFA4' 'NPM3' 'P2RX6'\n",
      " 'PAFAH2' 'PMS1' 'PSMC1' 'RHOQ' 'RP4-595K12.1' 'SLC12A6' 'SMARCD2' 'STARD7'\n",
      " 'TP53TG3D' 'TPT1' 'TUBA3C' 'VRK1' 'WDR59']\n",
      "There are 0 genes same as what is found in original works:[]\n"
     ]
    }
   ],
   "source": [
    "std_b = 0.05 \n",
    "std = np.std(gene_expression,axis=0)\n",
    "mean = np.mean(gene_expression,axis=0)\n",
    "stat = []\n",
    "\n",
    "# for every b\n",
    "a = np.zeros(b.shape)\n",
    "# put every gene to its percentile bins\n",
    "for j in range(b.shape[0]):\n",
    "    a[j,:] = np.argsort(b[j,:]) / b.shape[1]\n",
    "# count the times one gene is in top 1% and otherwise in 105 test\n",
    "for i in range(b.shape[1]):\n",
    "    xedges = np.linspace(0,1,200)\n",
    "    hist, _ = np.histogram(a[:,i].flatten(),xedges)\n",
    "    stat.append( ( sum( hist[:-1] > hist[-1]) == 0) \n",
    "                    and (std[i]/mean[i] <= std_b  ) )\n",
    "#     stat.append(sum(a[:,i]>prc_b) > sum(a[:,i]<=prc_b)) and (std[i]/mean[i] <= std_b) \n",
    "stat = np.array(stat)\n",
    "signature = np.sort(gene_expression.columns.values[stat])\n",
    "print(\"IFPC% Signature contains {} genes\".format(len(signature)))    \n",
    "\n",
    "signature = signature.astype(\"str\")\n",
    "print(np.sort(signature))\n",
    "\n",
    "ref_sig = pd.read_csv(\"signature.csv\")\n",
    "intersect = np.intersect1d(ref_sig[\"IFPC\"].values,signature)\n",
    "print(\"There are {} genes same as what is found in original works:{}\".format(len(intersect),intersect))"
   ]
  },
  {
   "cell_type": "code",
   "execution_count": 85,
   "metadata": {},
   "outputs": [
    {
     "data": {
      "text/plain": [
       "array(['ADA', 'AKR1C3', 'ANKRD28', 'ATF3', 'ATP1B1', 'CD96', 'CLDN6',\n",
       "       'CLIP2', 'CLMN', 'CLN6', 'CPA3', 'CST7', 'CTNNBIP1', 'DDIT4',\n",
       "       'DNMT3B', 'DUSP10', 'ENPP2', 'ENTPD6', 'FCHO1', 'FOCAD', 'FOSB',\n",
       "       'GLS', 'GNA15', 'GPHN', 'GPR125', 'IGFBP2', 'IL8', 'ITPR2', 'KCNJ8',\n",
       "       'LENEP', 'LHX6', 'LZTFL1', 'MEGF6', 'MEX3C', 'NFIL3', 'NR4A2',\n",
       "       'PLXNC1', 'PROM1', 'PTGS2', 'RRAGD', 'RUFY3', 'SEMA6D', 'SIK1',\n",
       "       'SLC2A5', 'SMAD1', 'SOCS2', 'SPINK2', 'TPBG', 'ZSCAN5A'], dtype=object)"
      ]
     },
     "execution_count": 85,
     "metadata": {},
     "output_type": "execute_result"
    }
   ],
   "source": [
    "np.sort(ref_sig[\"IFPC\"].values)"
   ]
  },
  {
   "cell_type": "code",
   "execution_count": 86,
   "metadata": {},
   "outputs": [
    {
     "data": {
      "image/png": "[encoded data removed]",
      "text/plain": [
       "<matplotlib.figure.Figure at 0x117cf8f98>"
      ]
     },
     "metadata": {},
     "output_type": "display_data"
    }
   ],
   "source": [
    "ax = sns.regplot(x=samples[\"IFPC Freq. (%)\"], y=gene_expression[signature].mean(axis=1), ci=None)"
   ]
  },
  {
   "cell_type": "code",
   "execution_count": 64,
   "metadata": {
    "collapsed": true
   },
   "outputs": [],
   "source": [
    "# center each gene \n",
    "# gene_expression = gene_expression - gene_expression.mean()\n",
    "\n",
    "l = len(gene_expression.index)\n",
    "b = np.zeros((int(l*(l-1)/2),gene_expression.shape[1]))\n",
    "# leave-two-out cross validation\n",
    "for i,c in enumerate(combinations(gene_expression.index,2)):\n",
    "    Y = gene_expression.ix[np.logical_not(gene_expression.index.isin([c[0],c[1]]))].values    \n",
    "#    X = samples.loc[np.logical_not(gene_expression.index.isin([c[0],c[1]])),['SDPC Freq. (%)',\"IFPC Freq. (%)\"]].values\n",
    "    X = samples.loc[np.logical_not(gene_expression.index.isin([c[0],c[1]])),[\"SDPC Freq. (%)\"]].values\n",
    "    b[i,:] = (np.linalg.inv(X.T.dot(X)).dot(X.T).dot(Y))"
   ]
  },
  {
   "cell_type": "code",
   "execution_count": 65,
   "metadata": {},
   "outputs": [
    {
     "name": "stdout",
     "output_type": "stream",
     "text": [
      "SDPC% Signature contains 52 genes\n",
      "['ABCD1' 'ACAD8' 'AGT' 'ANXA1' 'AP5S1' 'BTK' 'CNDP2' 'CNOT6' 'CPED1' 'CRBN'\n",
      " 'EFTUD1' 'GABARAPL2' 'GALNT6' 'GATC' 'GBF1' 'GGA1' 'GGT1' 'GNG5' 'KRT2'\n",
      " 'MAPK6' 'MEN1' 'MLH1' 'NDUFA9' 'NGRN' 'ORAI3' 'PGLYRP4' 'PJA2' 'POMP'\n",
      " 'PSMC1' 'PTGES3L-AARSD1' 'PTP4A1' 'RFXANK' 'RPLP0' 'RPS12' 'SARAF'\n",
      " 'SCAMP3' 'SCNM1' 'SEC24B' 'SERP1' 'SF3B4' 'SLC43A3' 'SNORD23' 'SNORD38B'\n",
      " 'SRRT' 'TGDS' 'THOC1' 'TMEM120B' 'TNPO1' 'TSPYL4' 'VAPA' 'ZNF816-ZNF321P'\n",
      " 'ZNHIT3']\n",
      "There are 0 genes same as what is found in original works:[]\n"
     ]
    }
   ],
   "source": [
    "std_b = 0.05 \n",
    "std = np.std(gene_expression,axis=0)\n",
    "mean = np.mean(gene_expression,axis=0)\n",
    "stat = []\n",
    "\n",
    "# for every b\n",
    "a = np.zeros(b.shape)\n",
    "# put every gene to its percentile bins\n",
    "for j in range(b.shape[0]):\n",
    "    a[j,:] = np.argsort(b[j,:]) / b.shape[1]\n",
    "# count the times one gene is in top 1% and otherwise in 105 test\n",
    "for i in range(b.shape[1]):\n",
    "    xedges = np.linspace(0,1,100)\n",
    "    hist, _ = np.histogram(a[:,i].flatten(),xedges)\n",
    "    stat.append( ( sum( hist[:-1] > hist[-1]) == 0) \n",
    "                    and (std[i] <= std_b  ) )\n",
    "#     stat.append(sum(a[:,i]>prc_b) > sum(a[:,i]<=prc_b)) and (std[i]/mean[i] <= std_b) \n",
    "stat = np.array(stat)\n",
    "signature = np.sort(gene_expression.columns.values[stat])\n",
    "print(\"SDPC% Signature contains {} genes\".format(len(signature)))    \n",
    "\n",
    "signature = signature.astype(\"str\")\n",
    "print(np.sort(signature))\n",
    "\n",
    "ref_sig = pd.read_csv(\"signature.csv\")\n",
    "\n",
    "intersect = np.intersect1d(ref_sig[\"SDPC\"][np.logical_not(pd.isnull(ref_sig[\"SDPC\"]))],signature)\n",
    "print(\"There are {} genes same as what is found in original works:{}\".format(len(intersect),intersect))"
   ]
  },
  {
   "cell_type": "code",
   "execution_count": 26,
   "metadata": {},
   "outputs": [
    {
     "data": {
      "text/plain": [
       "array(['AGTPBP1', 'ANPEP', 'APOL2', 'BAALC', 'CD200', 'CD34', 'CLEC2B',\n",
       "       'CLIC4', 'DAGLA', 'DAPK1', 'DEPTOR', 'DHRS3', 'EGFL7', 'EHD3',\n",
       "       'FCGRT', 'FLNB', 'GAB2', 'GATM', 'GIT2', 'HGF', 'HIST1H2BH',\n",
       "       'ITM2C', 'MAN1A1', 'MDFIC', 'MIR4448', 'MN1', 'MRC1', 'NARFL',\n",
       "       'NCAPH2', 'NRXN2', 'PELI2', 'PMAIP1', 'PMP22', 'PTGER4', 'PTOV1',\n",
       "       'SEC31B', 'SEPT9', 'SIDT1', 'TGFB1I1', 'WASF1', 'XPA', 'ZCCHC14'], dtype=object)"
      ]
     },
     "execution_count": 26,
     "metadata": {},
     "output_type": "execute_result"
    }
   ],
   "source": [
    "np.sort(ref_sig[\"SDPC\"][np.logical_not(pd.isnull(ref_sig[\"SDPC\"]))])"
   ]
  },
  {
   "cell_type": "code",
   "execution_count": 66,
   "metadata": {},
   "outputs": [
    {
     "data": {
      "image/png": "[encoded data removed]",
      "text/plain": [
       "<matplotlib.figure.Figure at 0x1183b1518>"
      ]
     },
     "metadata": {},
     "output_type": "display_data"
    }
   ],
   "source": [
    "ax = sns.regplot(x=samples[\"SDPC Freq. (%)\"], y=gene_expression[signature].mean(axis=1), ci=None)"
   ]
  },
  {
   "cell_type": "code",
   "execution_count": 153,
   "metadata": {},
   "outputs": [
    {
     "name": "stderr",
     "output_type": "stream",
     "text": [
      "/Users/xiaolibird/anaconda3/lib/python3.5/site-packages/matplotlib/figure.py:1742: UserWarning: This figure includes Axes that are not compatible with tight_layout, so its results might be incorrect.\n",
      "  warnings.warn(\"This figure includes Axes that are not \"\n"
     ]
    },
    {
     "data": {
      "image/png": "[encoded data removed]",
      "text/plain": [
       "<matplotlib.figure.Figure at 0x11c57c160>"
      ]
     },
     "metadata": {},
     "output_type": "display_data"
    }
   ],
   "source": [
    "t = gene_expression[signature].T\n",
    "\n",
    "fig, axn = plt.subplots(3, 1, sharex=True, sharey=False)\n",
    "\n",
    "cbar_ax = fig.add_axes([.91, .3, .03, .4])\n",
    "\n",
    "for i, ax in enumerate(axn.flat):\n",
    "    sns.heatmap(t, ax=ax,\n",
    "                cbar=i == 0,\n",
    "                vmin=0, vmax=1,\n",
    "                xticklabels=False,yticklabels=False,\n",
    "                cbar_ax=None if i else cbar_ax)\n",
    "\n",
    "fig.tight_layout(rect=[0, 0, .9, 1])\n",
    "\n",
    "# ax = sns.heatmap(t,cbar=False,xticklabels=False,yticklabels=False,cmap=\"YlGnBu\")\n"
   ]
  },
  {
   "cell_type": "code",
   "execution_count": null,
   "metadata": {
    "collapsed": true
   },
   "outputs": [],
   "source": []
  }
 ],
 "metadata": {
  "kernelspec": {
   "display_name": "Python 3",
   "language": "python",
   "name": "python3"
  },
  "language_info": {
   "codemirror_mode": {
    "name": "ipython",
    "version": 3
   },
   "file_extension": ".py",
   "mimetype": "text/x-python",
   "name": "python",
   "nbconvert_exporter": "python",
   "pygments_lexer": "ipython3",
   "version": "3.5.3"
  }
 },
 "nbformat": 4,
 "nbformat_minor": 1
}
